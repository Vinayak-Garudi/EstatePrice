{
  "cells": [
    {
      "cell_type": "code",
      "execution_count": 1,
      "metadata": {
        "id": "njQqOJQW5ppK"
      },
      "outputs": [],
      "source": [
        "# Dragon Real Estate Price Predictor"
      ]
    },
    {
      "cell_type": "code",
      "execution_count": 2,
      "metadata": {
        "id": "dcBUl23JzJzj",
        "colab": {
          "base_uri": "https://localhost:8080/"
        },
        "outputId": "51b5aff3-cb07-4e60-eca7-80cc60afc862"
      },
      "outputs": [
        {
          "output_type": "stream",
          "name": "stdout",
          "text": [
            "Drive already mounted at /content/drive; to attempt to forcibly remount, call drive.mount(\"/content/drive\", force_remount=True).\n"
          ]
        }
      ],
      "source": [
        "from google.colab import drive\n",
        "drive.mount('/content/drive')"
      ]
    },
    {
      "cell_type": "code",
      "execution_count": 3,
      "metadata": {
        "id": "TEEPGm3dzpde",
        "colab": {
          "base_uri": "https://localhost:8080/",
          "height": 424
        },
        "outputId": "7ec8d458-212d-46fe-8cac-40a6a87b9576"
      },
      "outputs": [
        {
          "output_type": "execute_result",
          "data": {
            "text/html": [
              "\n",
              "  <div id=\"df-53603244-c382-41c0-ac23-86a21781d733\">\n",
              "    <div class=\"colab-df-container\">\n",
              "      <div>\n",
              "<style scoped>\n",
              "    .dataframe tbody tr th:only-of-type {\n",
              "        vertical-align: middle;\n",
              "    }\n",
              "\n",
              "    .dataframe tbody tr th {\n",
              "        vertical-align: top;\n",
              "    }\n",
              "\n",
              "    .dataframe thead th {\n",
              "        text-align: right;\n",
              "    }\n",
              "</style>\n",
              "<table border=\"1\" class=\"dataframe\">\n",
              "  <thead>\n",
              "    <tr style=\"text-align: right;\">\n",
              "      <th></th>\n",
              "      <th>CRIM</th>\n",
              "      <th>ZN</th>\n",
              "      <th>INDUS</th>\n",
              "      <th>CHAS</th>\n",
              "      <th>NOX</th>\n",
              "      <th>RM</th>\n",
              "      <th>AGE</th>\n",
              "      <th>DIS</th>\n",
              "      <th>RAD</th>\n",
              "      <th>TAX</th>\n",
              "      <th>PTRATIO</th>\n",
              "      <th>B</th>\n",
              "      <th>LSTAT</th>\n",
              "      <th>MEDV</th>\n",
              "    </tr>\n",
              "  </thead>\n",
              "  <tbody>\n",
              "    <tr>\n",
              "      <th>0</th>\n",
              "      <td>0.00632</td>\n",
              "      <td>18.0</td>\n",
              "      <td>2.31</td>\n",
              "      <td>0</td>\n",
              "      <td>0.538</td>\n",
              "      <td>6.575</td>\n",
              "      <td>65.2</td>\n",
              "      <td>4.0900</td>\n",
              "      <td>1</td>\n",
              "      <td>296</td>\n",
              "      <td>15.3</td>\n",
              "      <td>396.90</td>\n",
              "      <td>4.98</td>\n",
              "      <td>24.0</td>\n",
              "    </tr>\n",
              "    <tr>\n",
              "      <th>1</th>\n",
              "      <td>0.02731</td>\n",
              "      <td>0.0</td>\n",
              "      <td>7.07</td>\n",
              "      <td>0</td>\n",
              "      <td>0.469</td>\n",
              "      <td>6.421</td>\n",
              "      <td>78.9</td>\n",
              "      <td>4.9671</td>\n",
              "      <td>2</td>\n",
              "      <td>242</td>\n",
              "      <td>17.8</td>\n",
              "      <td>396.90</td>\n",
              "      <td>9.14</td>\n",
              "      <td>21.6</td>\n",
              "    </tr>\n",
              "    <tr>\n",
              "      <th>2</th>\n",
              "      <td>0.02729</td>\n",
              "      <td>0.0</td>\n",
              "      <td>7.07</td>\n",
              "      <td>0</td>\n",
              "      <td>0.469</td>\n",
              "      <td>7.185</td>\n",
              "      <td>61.1</td>\n",
              "      <td>4.9671</td>\n",
              "      <td>2</td>\n",
              "      <td>242</td>\n",
              "      <td>17.8</td>\n",
              "      <td>392.83</td>\n",
              "      <td>4.03</td>\n",
              "      <td>34.7</td>\n",
              "    </tr>\n",
              "    <tr>\n",
              "      <th>3</th>\n",
              "      <td>0.03237</td>\n",
              "      <td>0.0</td>\n",
              "      <td>2.18</td>\n",
              "      <td>0</td>\n",
              "      <td>0.458</td>\n",
              "      <td>6.998</td>\n",
              "      <td>45.8</td>\n",
              "      <td>6.0622</td>\n",
              "      <td>3</td>\n",
              "      <td>222</td>\n",
              "      <td>18.7</td>\n",
              "      <td>394.63</td>\n",
              "      <td>2.94</td>\n",
              "      <td>33.4</td>\n",
              "    </tr>\n",
              "    <tr>\n",
              "      <th>4</th>\n",
              "      <td>0.06905</td>\n",
              "      <td>0.0</td>\n",
              "      <td>2.18</td>\n",
              "      <td>0</td>\n",
              "      <td>0.458</td>\n",
              "      <td>7.147</td>\n",
              "      <td>54.2</td>\n",
              "      <td>6.0622</td>\n",
              "      <td>3</td>\n",
              "      <td>222</td>\n",
              "      <td>18.7</td>\n",
              "      <td>396.90</td>\n",
              "      <td>5.33</td>\n",
              "      <td>36.2</td>\n",
              "    </tr>\n",
              "    <tr>\n",
              "      <th>...</th>\n",
              "      <td>...</td>\n",
              "      <td>...</td>\n",
              "      <td>...</td>\n",
              "      <td>...</td>\n",
              "      <td>...</td>\n",
              "      <td>...</td>\n",
              "      <td>...</td>\n",
              "      <td>...</td>\n",
              "      <td>...</td>\n",
              "      <td>...</td>\n",
              "      <td>...</td>\n",
              "      <td>...</td>\n",
              "      <td>...</td>\n",
              "      <td>...</td>\n",
              "    </tr>\n",
              "    <tr>\n",
              "      <th>506</th>\n",
              "      <td>0.98765</td>\n",
              "      <td>0.0</td>\n",
              "      <td>12.50</td>\n",
              "      <td>0</td>\n",
              "      <td>0.561</td>\n",
              "      <td>6.980</td>\n",
              "      <td>89.0</td>\n",
              "      <td>2.0980</td>\n",
              "      <td>3</td>\n",
              "      <td>320</td>\n",
              "      <td>23.0</td>\n",
              "      <td>396.00</td>\n",
              "      <td>12.00</td>\n",
              "      <td>12.0</td>\n",
              "    </tr>\n",
              "    <tr>\n",
              "      <th>507</th>\n",
              "      <td>0.23456</td>\n",
              "      <td>0.0</td>\n",
              "      <td>12.50</td>\n",
              "      <td>0</td>\n",
              "      <td>0.561</td>\n",
              "      <td>6.980</td>\n",
              "      <td>76.0</td>\n",
              "      <td>2.6540</td>\n",
              "      <td>3</td>\n",
              "      <td>320</td>\n",
              "      <td>23.0</td>\n",
              "      <td>343.00</td>\n",
              "      <td>25.00</td>\n",
              "      <td>32.0</td>\n",
              "    </tr>\n",
              "    <tr>\n",
              "      <th>508</th>\n",
              "      <td>0.44433</td>\n",
              "      <td>0.0</td>\n",
              "      <td>12.50</td>\n",
              "      <td>0</td>\n",
              "      <td>0.561</td>\n",
              "      <td>6.123</td>\n",
              "      <td>98.0</td>\n",
              "      <td>2.9870</td>\n",
              "      <td>3</td>\n",
              "      <td>320</td>\n",
              "      <td>23.0</td>\n",
              "      <td>343.00</td>\n",
              "      <td>21.00</td>\n",
              "      <td>54.0</td>\n",
              "    </tr>\n",
              "    <tr>\n",
              "      <th>509</th>\n",
              "      <td>0.77763</td>\n",
              "      <td>0.0</td>\n",
              "      <td>12.70</td>\n",
              "      <td>0</td>\n",
              "      <td>0.561</td>\n",
              "      <td>6.222</td>\n",
              "      <td>34.0</td>\n",
              "      <td>2.5430</td>\n",
              "      <td>3</td>\n",
              "      <td>329</td>\n",
              "      <td>23.0</td>\n",
              "      <td>343.00</td>\n",
              "      <td>76.00</td>\n",
              "      <td>67.0</td>\n",
              "    </tr>\n",
              "    <tr>\n",
              "      <th>510</th>\n",
              "      <td>0.65432</td>\n",
              "      <td>0.0</td>\n",
              "      <td>12.80</td>\n",
              "      <td>0</td>\n",
              "      <td>0.561</td>\n",
              "      <td>6.760</td>\n",
              "      <td>67.0</td>\n",
              "      <td>2.9870</td>\n",
              "      <td>3</td>\n",
              "      <td>345</td>\n",
              "      <td>23.0</td>\n",
              "      <td>321.00</td>\n",
              "      <td>45.00</td>\n",
              "      <td>24.0</td>\n",
              "    </tr>\n",
              "  </tbody>\n",
              "</table>\n",
              "<p>511 rows × 14 columns</p>\n",
              "</div>\n",
              "      <button class=\"colab-df-convert\" onclick=\"convertToInteractive('df-53603244-c382-41c0-ac23-86a21781d733')\"\n",
              "              title=\"Convert this dataframe to an interactive table.\"\n",
              "              style=\"display:none;\">\n",
              "        \n",
              "  <svg xmlns=\"http://www.w3.org/2000/svg\" height=\"24px\"viewBox=\"0 0 24 24\"\n",
              "       width=\"24px\">\n",
              "    <path d=\"M0 0h24v24H0V0z\" fill=\"none\"/>\n",
              "    <path d=\"M18.56 5.44l.94 2.06.94-2.06 2.06-.94-2.06-.94-.94-2.06-.94 2.06-2.06.94zm-11 1L8.5 8.5l.94-2.06 2.06-.94-2.06-.94L8.5 2.5l-.94 2.06-2.06.94zm10 10l.94 2.06.94-2.06 2.06-.94-2.06-.94-.94-2.06-.94 2.06-2.06.94z\"/><path d=\"M17.41 7.96l-1.37-1.37c-.4-.4-.92-.59-1.43-.59-.52 0-1.04.2-1.43.59L10.3 9.45l-7.72 7.72c-.78.78-.78 2.05 0 2.83L4 21.41c.39.39.9.59 1.41.59.51 0 1.02-.2 1.41-.59l7.78-7.78 2.81-2.81c.8-.78.8-2.07 0-2.86zM5.41 20L4 18.59l7.72-7.72 1.47 1.35L5.41 20z\"/>\n",
              "  </svg>\n",
              "      </button>\n",
              "      \n",
              "  <style>\n",
              "    .colab-df-container {\n",
              "      display:flex;\n",
              "      flex-wrap:wrap;\n",
              "      gap: 12px;\n",
              "    }\n",
              "\n",
              "    .colab-df-convert {\n",
              "      background-color: #E8F0FE;\n",
              "      border: none;\n",
              "      border-radius: 50%;\n",
              "      cursor: pointer;\n",
              "      display: none;\n",
              "      fill: #1967D2;\n",
              "      height: 32px;\n",
              "      padding: 0 0 0 0;\n",
              "      width: 32px;\n",
              "    }\n",
              "\n",
              "    .colab-df-convert:hover {\n",
              "      background-color: #E2EBFA;\n",
              "      box-shadow: 0px 1px 2px rgba(60, 64, 67, 0.3), 0px 1px 3px 1px rgba(60, 64, 67, 0.15);\n",
              "      fill: #174EA6;\n",
              "    }\n",
              "\n",
              "    [theme=dark] .colab-df-convert {\n",
              "      background-color: #3B4455;\n",
              "      fill: #D2E3FC;\n",
              "    }\n",
              "\n",
              "    [theme=dark] .colab-df-convert:hover {\n",
              "      background-color: #434B5C;\n",
              "      box-shadow: 0px 1px 3px 1px rgba(0, 0, 0, 0.15);\n",
              "      filter: drop-shadow(0px 1px 2px rgba(0, 0, 0, 0.3));\n",
              "      fill: #FFFFFF;\n",
              "    }\n",
              "  </style>\n",
              "\n",
              "      <script>\n",
              "        const buttonEl =\n",
              "          document.querySelector('#df-53603244-c382-41c0-ac23-86a21781d733 button.colab-df-convert');\n",
              "        buttonEl.style.display =\n",
              "          google.colab.kernel.accessAllowed ? 'block' : 'none';\n",
              "\n",
              "        async function convertToInteractive(key) {\n",
              "          const element = document.querySelector('#df-53603244-c382-41c0-ac23-86a21781d733');\n",
              "          const dataTable =\n",
              "            await google.colab.kernel.invokeFunction('convertToInteractive',\n",
              "                                                     [key], {});\n",
              "          if (!dataTable) return;\n",
              "\n",
              "          const docLinkHtml = 'Like what you see? Visit the ' +\n",
              "            '<a target=\"_blank\" href=https://colab.research.google.com/notebooks/data_table.ipynb>data table notebook</a>'\n",
              "            + ' to learn more about interactive tables.';\n",
              "          element.innerHTML = '';\n",
              "          dataTable['output_type'] = 'display_data';\n",
              "          await google.colab.output.renderOutput(dataTable, element);\n",
              "          const docLink = document.createElement('div');\n",
              "          docLink.innerHTML = docLinkHtml;\n",
              "          element.appendChild(docLink);\n",
              "        }\n",
              "      </script>\n",
              "    </div>\n",
              "  </div>\n",
              "  "
            ],
            "text/plain": [
              "        CRIM    ZN  INDUS  CHAS    NOX  ...  TAX  PTRATIO       B  LSTAT  MEDV\n",
              "0    0.00632  18.0   2.31     0  0.538  ...  296     15.3  396.90   4.98  24.0\n",
              "1    0.02731   0.0   7.07     0  0.469  ...  242     17.8  396.90   9.14  21.6\n",
              "2    0.02729   0.0   7.07     0  0.469  ...  242     17.8  392.83   4.03  34.7\n",
              "3    0.03237   0.0   2.18     0  0.458  ...  222     18.7  394.63   2.94  33.4\n",
              "4    0.06905   0.0   2.18     0  0.458  ...  222     18.7  396.90   5.33  36.2\n",
              "..       ...   ...    ...   ...    ...  ...  ...      ...     ...    ...   ...\n",
              "506  0.98765   0.0  12.50     0  0.561  ...  320     23.0  396.00  12.00  12.0\n",
              "507  0.23456   0.0  12.50     0  0.561  ...  320     23.0  343.00  25.00  32.0\n",
              "508  0.44433   0.0  12.50     0  0.561  ...  320     23.0  343.00  21.00  54.0\n",
              "509  0.77763   0.0  12.70     0  0.561  ...  329     23.0  343.00  76.00  67.0\n",
              "510  0.65432   0.0  12.80     0  0.561  ...  345     23.0  321.00  45.00  24.0\n",
              "\n",
              "[511 rows x 14 columns]"
            ]
          },
          "metadata": {},
          "execution_count": 3
        }
      ],
      "source": [
        "import pandas as pd\n",
        "housing = pd.read_csv(\"/content/drive/MyDrive/CSV/estate_1.csv\")\n",
        "housing"
      ]
    },
    {
      "cell_type": "code",
      "execution_count": 4,
      "metadata": {
        "id": "2bhUVkXLA159",
        "colab": {
          "base_uri": "https://localhost:8080/"
        },
        "outputId": "a91e5430-bd50-49cc-c533-76a7db7bb8f5"
      },
      "outputs": [
        {
          "output_type": "stream",
          "name": "stdout",
          "text": [
            "<class 'pandas.core.frame.DataFrame'>\n",
            "RangeIndex: 511 entries, 0 to 510\n",
            "Data columns (total 14 columns):\n",
            " #   Column   Non-Null Count  Dtype  \n",
            "---  ------   --------------  -----  \n",
            " 0   CRIM     511 non-null    float64\n",
            " 1   ZN       511 non-null    float64\n",
            " 2   INDUS    511 non-null    float64\n",
            " 3   CHAS     511 non-null    int64  \n",
            " 4   NOX      511 non-null    float64\n",
            " 5   RM       506 non-null    float64\n",
            " 6   AGE      511 non-null    float64\n",
            " 7   DIS      511 non-null    float64\n",
            " 8   RAD      511 non-null    int64  \n",
            " 9   TAX      511 non-null    int64  \n",
            " 10  PTRATIO  511 non-null    float64\n",
            " 11  B        511 non-null    float64\n",
            " 12  LSTAT    511 non-null    float64\n",
            " 13  MEDV     511 non-null    float64\n",
            "dtypes: float64(11), int64(3)\n",
            "memory usage: 56.0 KB\n"
          ]
        }
      ],
      "source": [
        "housing.info()"
      ]
    },
    {
      "cell_type": "code",
      "execution_count": 5,
      "metadata": {
        "id": "OGNMRq47A_QF",
        "colab": {
          "base_uri": "https://localhost:8080/"
        },
        "outputId": "0526a5f5-fe1c-4bb6-d13e-0492210b7173"
      },
      "outputs": [
        {
          "output_type": "execute_result",
          "data": {
            "text/plain": [
              "0    476\n",
              "1     35\n",
              "Name: CHAS, dtype: int64"
            ]
          },
          "metadata": {},
          "execution_count": 5
        }
      ],
      "source": [
        "housing['CHAS'].value_counts()    #counts the number of same values is a column"
      ]
    },
    {
      "cell_type": "code",
      "execution_count": 6,
      "metadata": {
        "id": "ff3O1q73CoPQ",
        "colab": {
          "base_uri": "https://localhost:8080/"
        },
        "outputId": "9b8dbd50-95d1-48b0-a59a-6c1a298d5103"
      },
      "outputs": [
        {
          "output_type": "execute_result",
          "data": {
            "text/plain": [
              "6.980    4\n",
              "6.229    3\n",
              "6.417    3\n",
              "6.405    3\n",
              "6.167    3\n",
              "        ..\n",
              "6.232    1\n",
              "6.593    1\n",
              "6.425    1\n",
              "5.950    1\n",
              "6.625    1\n",
              "Name: RM, Length: 444, dtype: int64"
            ]
          },
          "metadata": {},
          "execution_count": 6
        }
      ],
      "source": [
        "housing['RM'].value_counts()      #another example of value_counts()"
      ]
    },
    {
      "cell_type": "code",
      "execution_count": 7,
      "metadata": {
        "id": "4wWqtZe9BQ_x",
        "colab": {
          "base_uri": "https://localhost:8080/",
          "height": 364
        },
        "outputId": "a2930041-02fc-42e8-c7ec-a6e90cd49f7f"
      },
      "outputs": [
        {
          "output_type": "execute_result",
          "data": {
            "text/html": [
              "\n",
              "  <div id=\"df-2579bda8-04c3-46fd-a40d-644bdcdd7f4d\">\n",
              "    <div class=\"colab-df-container\">\n",
              "      <div>\n",
              "<style scoped>\n",
              "    .dataframe tbody tr th:only-of-type {\n",
              "        vertical-align: middle;\n",
              "    }\n",
              "\n",
              "    .dataframe tbody tr th {\n",
              "        vertical-align: top;\n",
              "    }\n",
              "\n",
              "    .dataframe thead th {\n",
              "        text-align: right;\n",
              "    }\n",
              "</style>\n",
              "<table border=\"1\" class=\"dataframe\">\n",
              "  <thead>\n",
              "    <tr style=\"text-align: right;\">\n",
              "      <th></th>\n",
              "      <th>CRIM</th>\n",
              "      <th>ZN</th>\n",
              "      <th>INDUS</th>\n",
              "      <th>CHAS</th>\n",
              "      <th>NOX</th>\n",
              "      <th>RM</th>\n",
              "      <th>AGE</th>\n",
              "      <th>DIS</th>\n",
              "      <th>RAD</th>\n",
              "      <th>TAX</th>\n",
              "      <th>PTRATIO</th>\n",
              "      <th>B</th>\n",
              "      <th>LSTAT</th>\n",
              "      <th>MEDV</th>\n",
              "    </tr>\n",
              "  </thead>\n",
              "  <tbody>\n",
              "    <tr>\n",
              "      <th>count</th>\n",
              "      <td>511.000000</td>\n",
              "      <td>511.000000</td>\n",
              "      <td>511.000000</td>\n",
              "      <td>511.000000</td>\n",
              "      <td>511.000000</td>\n",
              "      <td>506.000000</td>\n",
              "      <td>511.000000</td>\n",
              "      <td>511.000000</td>\n",
              "      <td>511.000000</td>\n",
              "      <td>511.000000</td>\n",
              "      <td>511.000000</td>\n",
              "      <td>511.000000</td>\n",
              "      <td>511.000000</td>\n",
              "      <td>511.000000</td>\n",
              "    </tr>\n",
              "    <tr>\n",
              "      <th>mean</th>\n",
              "      <td>3.584139</td>\n",
              "      <td>11.252446</td>\n",
              "      <td>11.151096</td>\n",
              "      <td>0.068493</td>\n",
              "      <td>0.554757</td>\n",
              "      <td>6.287589</td>\n",
              "      <td>68.616243</td>\n",
              "      <td>3.783876</td>\n",
              "      <td>9.485323</td>\n",
              "      <td>407.440313</td>\n",
              "      <td>18.500000</td>\n",
              "      <td>356.600900</td>\n",
              "      <td>12.879550</td>\n",
              "      <td>22.682192</td>\n",
              "    </tr>\n",
              "    <tr>\n",
              "      <th>std</th>\n",
              "      <td>8.564433</td>\n",
              "      <td>23.234838</td>\n",
              "      <td>6.828175</td>\n",
              "      <td>0.252838</td>\n",
              "      <td>0.115310</td>\n",
              "      <td>0.703802</td>\n",
              "      <td>28.099130</td>\n",
              "      <td>2.098631</td>\n",
              "      <td>8.688469</td>\n",
              "      <td>167.903532</td>\n",
              "      <td>2.200348</td>\n",
              "      <td>90.882679</td>\n",
              "      <td>7.797416</td>\n",
              "      <td>9.484262</td>\n",
              "    </tr>\n",
              "    <tr>\n",
              "      <th>min</th>\n",
              "      <td>0.006320</td>\n",
              "      <td>0.000000</td>\n",
              "      <td>0.460000</td>\n",
              "      <td>0.000000</td>\n",
              "      <td>0.385000</td>\n",
              "      <td>3.561000</td>\n",
              "      <td>2.900000</td>\n",
              "      <td>1.129600</td>\n",
              "      <td>1.000000</td>\n",
              "      <td>187.000000</td>\n",
              "      <td>12.600000</td>\n",
              "      <td>0.320000</td>\n",
              "      <td>1.730000</td>\n",
              "      <td>5.000000</td>\n",
              "    </tr>\n",
              "    <tr>\n",
              "      <th>25%</th>\n",
              "      <td>0.082325</td>\n",
              "      <td>0.000000</td>\n",
              "      <td>5.190000</td>\n",
              "      <td>0.000000</td>\n",
              "      <td>0.449000</td>\n",
              "      <td>5.885500</td>\n",
              "      <td>45.050000</td>\n",
              "      <td>2.100350</td>\n",
              "      <td>4.000000</td>\n",
              "      <td>279.500000</td>\n",
              "      <td>17.400000</td>\n",
              "      <td>374.710000</td>\n",
              "      <td>7.065000</td>\n",
              "      <td>17.050000</td>\n",
              "    </tr>\n",
              "    <tr>\n",
              "      <th>50%</th>\n",
              "      <td>0.261690</td>\n",
              "      <td>0.000000</td>\n",
              "      <td>9.690000</td>\n",
              "      <td>0.000000</td>\n",
              "      <td>0.538000</td>\n",
              "      <td>6.209000</td>\n",
              "      <td>77.300000</td>\n",
              "      <td>3.152300</td>\n",
              "      <td>5.000000</td>\n",
              "      <td>330.000000</td>\n",
              "      <td>19.100000</td>\n",
              "      <td>391.340000</td>\n",
              "      <td>11.450000</td>\n",
              "      <td>21.200000</td>\n",
              "    </tr>\n",
              "    <tr>\n",
              "      <th>75%</th>\n",
              "      <td>3.621175</td>\n",
              "      <td>12.500000</td>\n",
              "      <td>18.100000</td>\n",
              "      <td>0.000000</td>\n",
              "      <td>0.624000</td>\n",
              "      <td>6.629750</td>\n",
              "      <td>94.050000</td>\n",
              "      <td>5.118000</td>\n",
              "      <td>24.000000</td>\n",
              "      <td>666.000000</td>\n",
              "      <td>20.200000</td>\n",
              "      <td>396.210000</td>\n",
              "      <td>17.105000</td>\n",
              "      <td>25.000000</td>\n",
              "    </tr>\n",
              "    <tr>\n",
              "      <th>max</th>\n",
              "      <td>88.976200</td>\n",
              "      <td>100.000000</td>\n",
              "      <td>27.740000</td>\n",
              "      <td>1.000000</td>\n",
              "      <td>0.871000</td>\n",
              "      <td>8.780000</td>\n",
              "      <td>100.000000</td>\n",
              "      <td>12.126500</td>\n",
              "      <td>24.000000</td>\n",
              "      <td>711.000000</td>\n",
              "      <td>23.000000</td>\n",
              "      <td>396.900000</td>\n",
              "      <td>76.000000</td>\n",
              "      <td>67.000000</td>\n",
              "    </tr>\n",
              "  </tbody>\n",
              "</table>\n",
              "</div>\n",
              "      <button class=\"colab-df-convert\" onclick=\"convertToInteractive('df-2579bda8-04c3-46fd-a40d-644bdcdd7f4d')\"\n",
              "              title=\"Convert this dataframe to an interactive table.\"\n",
              "              style=\"display:none;\">\n",
              "        \n",
              "  <svg xmlns=\"http://www.w3.org/2000/svg\" height=\"24px\"viewBox=\"0 0 24 24\"\n",
              "       width=\"24px\">\n",
              "    <path d=\"M0 0h24v24H0V0z\" fill=\"none\"/>\n",
              "    <path d=\"M18.56 5.44l.94 2.06.94-2.06 2.06-.94-2.06-.94-.94-2.06-.94 2.06-2.06.94zm-11 1L8.5 8.5l.94-2.06 2.06-.94-2.06-.94L8.5 2.5l-.94 2.06-2.06.94zm10 10l.94 2.06.94-2.06 2.06-.94-2.06-.94-.94-2.06-.94 2.06-2.06.94z\"/><path d=\"M17.41 7.96l-1.37-1.37c-.4-.4-.92-.59-1.43-.59-.52 0-1.04.2-1.43.59L10.3 9.45l-7.72 7.72c-.78.78-.78 2.05 0 2.83L4 21.41c.39.39.9.59 1.41.59.51 0 1.02-.2 1.41-.59l7.78-7.78 2.81-2.81c.8-.78.8-2.07 0-2.86zM5.41 20L4 18.59l7.72-7.72 1.47 1.35L5.41 20z\"/>\n",
              "  </svg>\n",
              "      </button>\n",
              "      \n",
              "  <style>\n",
              "    .colab-df-container {\n",
              "      display:flex;\n",
              "      flex-wrap:wrap;\n",
              "      gap: 12px;\n",
              "    }\n",
              "\n",
              "    .colab-df-convert {\n",
              "      background-color: #E8F0FE;\n",
              "      border: none;\n",
              "      border-radius: 50%;\n",
              "      cursor: pointer;\n",
              "      display: none;\n",
              "      fill: #1967D2;\n",
              "      height: 32px;\n",
              "      padding: 0 0 0 0;\n",
              "      width: 32px;\n",
              "    }\n",
              "\n",
              "    .colab-df-convert:hover {\n",
              "      background-color: #E2EBFA;\n",
              "      box-shadow: 0px 1px 2px rgba(60, 64, 67, 0.3), 0px 1px 3px 1px rgba(60, 64, 67, 0.15);\n",
              "      fill: #174EA6;\n",
              "    }\n",
              "\n",
              "    [theme=dark] .colab-df-convert {\n",
              "      background-color: #3B4455;\n",
              "      fill: #D2E3FC;\n",
              "    }\n",
              "\n",
              "    [theme=dark] .colab-df-convert:hover {\n",
              "      background-color: #434B5C;\n",
              "      box-shadow: 0px 1px 3px 1px rgba(0, 0, 0, 0.15);\n",
              "      filter: drop-shadow(0px 1px 2px rgba(0, 0, 0, 0.3));\n",
              "      fill: #FFFFFF;\n",
              "    }\n",
              "  </style>\n",
              "\n",
              "      <script>\n",
              "        const buttonEl =\n",
              "          document.querySelector('#df-2579bda8-04c3-46fd-a40d-644bdcdd7f4d button.colab-df-convert');\n",
              "        buttonEl.style.display =\n",
              "          google.colab.kernel.accessAllowed ? 'block' : 'none';\n",
              "\n",
              "        async function convertToInteractive(key) {\n",
              "          const element = document.querySelector('#df-2579bda8-04c3-46fd-a40d-644bdcdd7f4d');\n",
              "          const dataTable =\n",
              "            await google.colab.kernel.invokeFunction('convertToInteractive',\n",
              "                                                     [key], {});\n",
              "          if (!dataTable) return;\n",
              "\n",
              "          const docLinkHtml = 'Like what you see? Visit the ' +\n",
              "            '<a target=\"_blank\" href=https://colab.research.google.com/notebooks/data_table.ipynb>data table notebook</a>'\n",
              "            + ' to learn more about interactive tables.';\n",
              "          element.innerHTML = '';\n",
              "          dataTable['output_type'] = 'display_data';\n",
              "          await google.colab.output.renderOutput(dataTable, element);\n",
              "          const docLink = document.createElement('div');\n",
              "          docLink.innerHTML = docLinkHtml;\n",
              "          element.appendChild(docLink);\n",
              "        }\n",
              "      </script>\n",
              "    </div>\n",
              "  </div>\n",
              "  "
            ],
            "text/plain": [
              "             CRIM          ZN       INDUS  ...           B       LSTAT        MEDV\n",
              "count  511.000000  511.000000  511.000000  ...  511.000000  511.000000  511.000000\n",
              "mean     3.584139   11.252446   11.151096  ...  356.600900   12.879550   22.682192\n",
              "std      8.564433   23.234838    6.828175  ...   90.882679    7.797416    9.484262\n",
              "min      0.006320    0.000000    0.460000  ...    0.320000    1.730000    5.000000\n",
              "25%      0.082325    0.000000    5.190000  ...  374.710000    7.065000   17.050000\n",
              "50%      0.261690    0.000000    9.690000  ...  391.340000   11.450000   21.200000\n",
              "75%      3.621175   12.500000   18.100000  ...  396.210000   17.105000   25.000000\n",
              "max     88.976200  100.000000   27.740000  ...  396.900000   76.000000   67.000000\n",
              "\n",
              "[8 rows x 14 columns]"
            ]
          },
          "metadata": {},
          "execution_count": 7
        }
      ],
      "source": [
        "housing.describe()"
      ]
    },
    {
      "cell_type": "code",
      "execution_count": 8,
      "metadata": {
        "id": "N88iwNJ2BZbx"
      },
      "outputs": [],
      "source": [
        "# std means standard deviation that means the distance between the value and the mean\n",
        "# percent means lets say for the CRIM column 25% of values is less than 0.082325, 50% of values are les than 0.261690 and similarly for 75%"
      ]
    },
    {
      "cell_type": "code",
      "execution_count": 9,
      "metadata": {
        "id": "oGCr1aWNCOBN",
        "colab": {
          "base_uri": "https://localhost:8080/",
          "height": 1000
        },
        "outputId": "4f3595fa-16e2-4faa-db89-e3ecd6f34c73"
      },
      "outputs": [
        {
          "output_type": "execute_result",
          "data": {
            "text/plain": [
              "array([[<matplotlib.axes._subplots.AxesSubplot object at 0x7f664619ef90>,\n",
              "        <matplotlib.axes._subplots.AxesSubplot object at 0x7f664617f350>,\n",
              "        <matplotlib.axes._subplots.AxesSubplot object at 0x7f664613b950>,\n",
              "        <matplotlib.axes._subplots.AxesSubplot object at 0x7f66460eff50>],\n",
              "       [<matplotlib.axes._subplots.AxesSubplot object at 0x7f66460b1590>,\n",
              "        <matplotlib.axes._subplots.AxesSubplot object at 0x7f6646068b90>,\n",
              "        <matplotlib.axes._subplots.AxesSubplot object at 0x7f664602a250>,\n",
              "        <matplotlib.axes._subplots.AxesSubplot object at 0x7f6645fdf790>],\n",
              "       [<matplotlib.axes._subplots.AxesSubplot object at 0x7f6645fdf7d0>,\n",
              "        <matplotlib.axes._subplots.AxesSubplot object at 0x7f6646015ed0>,\n",
              "        <matplotlib.axes._subplots.AxesSubplot object at 0x7f6645f8d990>,\n",
              "        <matplotlib.axes._subplots.AxesSubplot object at 0x7f6645f43f90>],\n",
              "       [<matplotlib.axes._subplots.AxesSubplot object at 0x7f6645f055d0>,\n",
              "        <matplotlib.axes._subplots.AxesSubplot object at 0x7f6645ebbbd0>,\n",
              "        <matplotlib.axes._subplots.AxesSubplot object at 0x7f6645e7e210>,\n",
              "        <matplotlib.axes._subplots.AxesSubplot object at 0x7f6645e35810>]],\n",
              "      dtype=object)"
            ]
          },
          "metadata": {},
          "execution_count": 9
        },
        {
          "output_type": "display_data",
          "data": {
            "image/png": "[encoded data removed]",
            "text/plain": [
              "<Figure size 1440x1080 with 16 Axes>"
            ]
          },
          "metadata": {
            "needs_background": "light"
          }
        }
      ],
      "source": [
        "# For plotting histogram\n",
        "import matplotlib.pyplot as plt\n",
        "housing.hist(bins=50, figsize=(20,15))"
      ]
    },
    {
      "cell_type": "code",
      "execution_count": 10,
      "metadata": {
        "id": "iqT283EhDVsN"
      },
      "outputs": [],
      "source": [
        "# Train-Test Splitting"
      ]
    },
    {
      "cell_type": "code",
      "execution_count": 11,
      "metadata": {
        "id": "RroqPGMmEbCw"
      },
      "outputs": [],
      "source": [
        "# For learning purpose\n",
        "import numpy as np\n",
        "# def split_train_test(data, test_ratio):\n",
        "#   np.random.seed(10)\n",
        "#   shuffled = np.random.permutation(len(data))\n",
        "#   print(shuffled)\n",
        "#   test_set_size = int(len(data) * test_ratio)\n",
        "#   test_indices = shuffled[:test_set_size]\n",
        "#   train_indices = shuffled[test_set_size:]\n",
        "#   return data.iloc[train_indices], data.iloc[test_indices]"
      ]
    },
    {
      "cell_type": "code",
      "execution_count": 12,
      "metadata": {
        "id": "tNB0pP_yF0bj"
      },
      "outputs": [],
      "source": [
        "# train_set, test_set = split_train_test(housing, 0.2)"
      ]
    },
    {
      "cell_type": "code",
      "execution_count": 13,
      "metadata": {
        "id": "16CT9zw5F_iQ"
      },
      "outputs": [],
      "source": [
        "# print(\"Rows in trainset: \", len(train_set),\"\\nRows in test set: \", len(test_set))"
      ]
    },
    {
      "cell_type": "code",
      "execution_count": 14,
      "metadata": {
        "id": "W_ozU958Gdy-"
      },
      "outputs": [],
      "source": [
        "# from sklearn.model_selection import train_test_split\n",
        "\n",
        "# train_set, test_set = train_test_split(housing, test_size=0.2, random_state=10)\n",
        "# print(\"Rows in trainset: \", len(train_set),\"\\nRows in test set: \", len(test_set))"
      ]
    },
    {
      "cell_type": "code",
      "source": [
        "# If we have a very special feature to include and the values should be equally distributed fot the test and train sets respectively\n",
        "# then instead of train_test_split we can use StratifiedShuffleSplit"
      ],
      "metadata": {
        "id": "bSo7c48SaC_i"
      },
      "execution_count": 15,
      "outputs": []
    },
    {
      "cell_type": "code",
      "execution_count": 16,
      "metadata": {
        "id": "Hx1U4i-LJnSl"
      },
      "outputs": [],
      "source": [
        "from sklearn.model_selection import StratifiedShuffleSplit\n",
        "strat = StratifiedShuffleSplit(n_splits=2, test_size=0.2, random_state=10)\n",
        "for train_index, test_index in strat.split(housing, housing['CHAS'], housing['RM']):\n",
        "  split_train_set = housing.loc[train_index]\n",
        "  split_test_set = housing.loc[test_index]"
      ]
    },
    {
      "cell_type": "code",
      "execution_count": 17,
      "metadata": {
        "id": "3-dG_nIIcCNi",
        "colab": {
          "base_uri": "https://localhost:8080/"
        },
        "outputId": "90b2074a-b11e-4b02-a157-e18b88b076a5"
      },
      "outputs": [
        {
          "output_type": "execute_result",
          "data": {
            "text/plain": [
              "0    96\n",
              "1     7\n",
              "Name: CHAS, dtype: int64"
            ]
          },
          "metadata": {},
          "execution_count": 17
        }
      ],
      "source": [
        "split_test_set['CHAS'].value_counts()"
      ]
    },
    {
      "cell_type": "code",
      "execution_count": 18,
      "metadata": {
        "id": "pK5mWK3jcGt4",
        "colab": {
          "base_uri": "https://localhost:8080/"
        },
        "outputId": "ccba978c-6fa6-4615-d8c8-1441f8bad867"
      },
      "outputs": [
        {
          "output_type": "execute_result",
          "data": {
            "text/plain": [
              "0    380\n",
              "1     28\n",
              "Name: CHAS, dtype: int64"
            ]
          },
          "metadata": {},
          "execution_count": 18
        }
      ],
      "source": [
        "split_train_set['CHAS'].value_counts()"
      ]
    },
    {
      "cell_type": "code",
      "execution_count": 19,
      "metadata": {
        "id": "40nQzyqkcmmH"
      },
      "outputs": [],
      "source": [
        "#  as you can see above the ratio of 0 and 1 of test data and train data is almost equal\n",
        "# hence StratifiedShuffleSplit is used"
      ]
    },
    {
      "cell_type": "code",
      "execution_count": 20,
      "metadata": {
        "id": "NDrEdHhAskzm"
      },
      "outputs": [],
      "source": [
        "housing = split_train_set.copy()"
      ]
    },
    {
      "cell_type": "code",
      "execution_count": 21,
      "metadata": {
        "id": "RYhTWqHhc4cp"
      },
      "outputs": [],
      "source": [
        "# Looking for Corelations"
      ]
    },
    {
      "cell_type": "code",
      "execution_count": 22,
      "metadata": {
        "id": "WZBiX65ldowe"
      },
      "outputs": [],
      "source": [
        "corr_matrix = housing.corr()      #it gives the corelation of the specific value to other values... directly proportional or not"
      ]
    },
    {
      "cell_type": "code",
      "execution_count": 23,
      "metadata": {
        "id": "-8WutK9Md9JT",
        "colab": {
          "base_uri": "https://localhost:8080/"
        },
        "outputId": "57e7999c-b279-4676-da3b-232dc8842f65"
      },
      "outputs": [
        {
          "output_type": "execute_result",
          "data": {
            "text/plain": [
              "MEDV       1.000000\n",
              "RM         0.635966\n",
              "ZN         0.320588\n",
              "B          0.316704\n",
              "DIS        0.204612\n",
              "CHAS       0.181149\n",
              "AGE       -0.329168\n",
              "RAD       -0.368348\n",
              "NOX       -0.377254\n",
              "CRIM      -0.385402\n",
              "INDUS     -0.422336\n",
              "PTRATIO   -0.429638\n",
              "TAX       -0.438182\n",
              "LSTAT     -0.511943\n",
              "Name: MEDV, dtype: float64"
            ]
          },
          "metadata": {},
          "execution_count": 23
        }
      ],
      "source": [
        "corr_matrix['MEDV'].sort_values(ascending=False)       #corelation of MEDV i.e. price to other datas"
      ]
    },
    {
      "cell_type": "code",
      "execution_count": 24,
      "metadata": {
        "id": "3fgegYiKeHcd",
        "colab": {
          "base_uri": "https://localhost:8080/",
          "height": 906
        },
        "outputId": "61cad2d7-dc73-4bbd-df58-cf1c530e57de"
      },
      "outputs": [
        {
          "output_type": "execute_result",
          "data": {
            "text/plain": [
              "array([[<matplotlib.axes._subplots.AxesSubplot object at 0x7f6636bdb110>,\n",
              "        <matplotlib.axes._subplots.AxesSubplot object at 0x7f6636c07c10>,\n",
              "        <matplotlib.axes._subplots.AxesSubplot object at 0x7f6636bcb250>,\n",
              "        <matplotlib.axes._subplots.AxesSubplot object at 0x7f6636b7f850>],\n",
              "       [<matplotlib.axes._subplots.AxesSubplot object at 0x7f6636b36e50>,\n",
              "        <matplotlib.axes._subplots.AxesSubplot object at 0x7f6636afa490>,\n",
              "        <matplotlib.axes._subplots.AxesSubplot object at 0x7f6636ab0b10>,\n",
              "        <matplotlib.axes._subplots.AxesSubplot object at 0x7f6636a73090>],\n",
              "       [<matplotlib.axes._subplots.AxesSubplot object at 0x7f6636a730d0>,\n",
              "        <matplotlib.axes._subplots.AxesSubplot object at 0x7f6636a2a7d0>,\n",
              "        <matplotlib.axes._subplots.AxesSubplot object at 0x7f66369a0310>,\n",
              "        <matplotlib.axes._subplots.AxesSubplot object at 0x7f6636958910>],\n",
              "       [<matplotlib.axes._subplots.AxesSubplot object at 0x7f663690cf10>,\n",
              "        <matplotlib.axes._subplots.AxesSubplot object at 0x7f66368d0550>,\n",
              "        <matplotlib.axes._subplots.AxesSubplot object at 0x7f6636905b50>,\n",
              "        <matplotlib.axes._subplots.AxesSubplot object at 0x7f66368c9190>]],\n",
              "      dtype=object)"
            ]
          },
          "metadata": {},
          "execution_count": 24
        },
        {
          "output_type": "display_data",
          "data": {
            "image/png": "[encoded data removed]",
            "text/plain": [
              "<Figure size 1080x720 with 16 Axes>"
            ]
          },
          "metadata": {
            "needs_background": "light"
          }
        }
      ],
      "source": [
        "from pandas.plotting import scatter_matrix\n",
        "attributes = [\"RM\", \"ZN\", \"MEDV\", \"LSTAT\"]\n",
        "scatter_matrix(housing[attributes], figsize = (15,10))"
      ]
    },
    {
      "cell_type": "code",
      "execution_count": 25,
      "metadata": {
        "id": "S_OiUNwDfSnj",
        "colab": {
          "base_uri": "https://localhost:8080/",
          "height": 300
        },
        "outputId": "6bda8785-e86b-4ea8-c0b0-8073ce61b8fa"
      },
      "outputs": [
        {
          "output_type": "execute_result",
          "data": {
            "text/plain": [
              "<matplotlib.axes._subplots.AxesSubplot at 0x7f663667c390>"
            ]
          },
          "metadata": {},
          "execution_count": 25
        },
        {
          "output_type": "display_data",
          "data": {
            "image/png": "[encoded data removed]",
            "text/plain": [
              "<Figure size 432x288 with 1 Axes>"
            ]
          },
          "metadata": {
            "needs_background": "light"
          }
        }
      ],
      "source": [
        "housing.plot(kind='scatter', x='RM', y='MEDV', alpha=0.8)"
      ]
    },
    {
      "cell_type": "code",
      "execution_count": 26,
      "metadata": {
        "id": "CNTMdngCgb7o"
      },
      "outputs": [],
      "source": [
        "# Trying out Attribute Combinations"
      ]
    },
    {
      "cell_type": "code",
      "execution_count": 27,
      "metadata": {
        "id": "WWfkY9UUhAur"
      },
      "outputs": [],
      "source": [
        "# housing['TAXRM'] = housing['TAX']/housing['RM']"
      ]
    },
    {
      "cell_type": "code",
      "execution_count": 28,
      "metadata": {
        "id": "vTcwKEFNhlNs"
      },
      "outputs": [],
      "source": [
        "# housing.head()"
      ]
    },
    {
      "cell_type": "code",
      "execution_count": 29,
      "metadata": {
        "id": "HSIHW8wDhxTh",
        "colab": {
          "base_uri": "https://localhost:8080/"
        },
        "outputId": "df1cee9b-256c-4e78-e090-0d5ef75a6842"
      },
      "outputs": [
        {
          "output_type": "execute_result",
          "data": {
            "text/plain": [
              "MEDV       1.000000\n",
              "RM         0.635966\n",
              "ZN         0.320588\n",
              "B          0.316704\n",
              "DIS        0.204612\n",
              "CHAS       0.181149\n",
              "AGE       -0.329168\n",
              "RAD       -0.368348\n",
              "NOX       -0.377254\n",
              "CRIM      -0.385402\n",
              "INDUS     -0.422336\n",
              "PTRATIO   -0.429638\n",
              "TAX       -0.438182\n",
              "LSTAT     -0.511943\n",
              "Name: MEDV, dtype: float64"
            ]
          },
          "metadata": {},
          "execution_count": 29
        }
      ],
      "source": [
        "corr_matrix = housing.corr() \n",
        "corr_matrix['MEDV'].sort_values(ascending=False)"
      ]
    },
    {
      "cell_type": "code",
      "execution_count": 30,
      "metadata": {
        "id": "5n1sCoQGiW2z"
      },
      "outputs": [],
      "source": [
        "# housing.plot(kind='scatter', x='TAXRM', y='MEDV', alpha=1)"
      ]
    },
    {
      "cell_type": "code",
      "execution_count": 31,
      "metadata": {
        "id": "W8iSdhGoJiSD"
      },
      "outputs": [],
      "source": [
        "housing = split_train_set.drop(\"MEDV\", axis=1)\n",
        "housing_labels = split_train_set[\"MEDV\"].copy()"
      ]
    },
    {
      "cell_type": "code",
      "execution_count": 32,
      "metadata": {
        "id": "nMEYb07XlYxH"
      },
      "outputs": [],
      "source": [
        "# what if few values get missing from the column then what to do????"
      ]
    },
    {
      "cell_type": "code",
      "execution_count": 33,
      "metadata": {
        "id": "B2zFlqu8l9kt"
      },
      "outputs": [],
      "source": [
        "# Missing Attributes"
      ]
    },
    {
      "cell_type": "code",
      "execution_count": 34,
      "metadata": {
        "id": "0RnUmUWKmEqm"
      },
      "outputs": [],
      "source": [
        "# 3 ways to get rid of the missing values/attributes\n",
        "# 1. delete the particular row\n",
        "# 2. delete the particaluar whole column i.e. if few values are missing from RM then delete the whole RM column\n",
        "# 3. set the median/mean value of column for that value "
      ]
    },
    {
      "cell_type": "code",
      "execution_count": 35,
      "metadata": {
        "id": "uc2-C8ngoXqb"
      },
      "outputs": [],
      "source": [
        "# a = housing.dropna(subset=[\"RM\"])    #option 1\n",
        "# note that the original dataframe will remain unchanged"
      ]
    },
    {
      "cell_type": "code",
      "execution_count": 36,
      "metadata": {
        "id": "wdOe7yPwo0zP"
      },
      "outputs": [],
      "source": [
        "# housing.drop(\"RM\", axis=1)     #option 2.... the RM column wil be removed\n",
        "# note that the original dataframe will remain unchanged"
      ]
    },
    {
      "cell_type": "code",
      "execution_count": 37,
      "metadata": {
        "id": "L5C7eh_0pJdA"
      },
      "outputs": [],
      "source": [
        "# median = housing[\"RM\"].median()     #find median for option 3"
      ]
    },
    {
      "cell_type": "code",
      "execution_count": 38,
      "metadata": {
        "id": "JWaaTJDTpSOQ"
      },
      "outputs": [],
      "source": [
        "# housing[\"RM\"].fillna(median)      #option 3\n",
        "# note that the original dataframe will remain unchanged"
      ]
    },
    {
      "cell_type": "code",
      "execution_count": 39,
      "metadata": {
        "id": "V2l_Dt_gtPj8"
      },
      "outputs": [],
      "source": [
        "# the better way to deal with missing attributes and not just for a particular columns but for every columns"
      ]
    },
    {
      "cell_type": "code",
      "execution_count": 40,
      "metadata": {
        "id": "ocIMZNNrp6HG",
        "colab": {
          "base_uri": "https://localhost:8080/"
        },
        "outputId": "85892d1e-3ffa-4365-ff09-bcef39717f70"
      },
      "outputs": [
        {
          "output_type": "execute_result",
          "data": {
            "text/plain": [
              "SimpleImputer(strategy='median')"
            ]
          },
          "metadata": {},
          "execution_count": 40
        }
      ],
      "source": [
        "from sklearn.impute import SimpleImputer\n",
        "imputer = SimpleImputer(strategy=\"median\")\n",
        "imputer.fit(housing)"
      ]
    },
    {
      "cell_type": "code",
      "execution_count": 41,
      "metadata": {
        "id": "TcjM2I2zrA02"
      },
      "outputs": [],
      "source": [
        "# imputer.statistics_"
      ]
    },
    {
      "cell_type": "code",
      "execution_count": 42,
      "metadata": {
        "id": "qFZnNWf7rSo0"
      },
      "outputs": [],
      "source": [
        "X = imputer.transform(housing)"
      ]
    },
    {
      "cell_type": "code",
      "execution_count": 43,
      "metadata": {
        "id": "ZyzLzGUbrlNz"
      },
      "outputs": [],
      "source": [
        "housing_tr = pd.DataFrame(X, columns=housing.columns)"
      ]
    },
    {
      "cell_type": "code",
      "execution_count": 44,
      "metadata": {
        "id": "hYTohdngr2kY",
        "colab": {
          "base_uri": "https://localhost:8080/",
          "height": 344
        },
        "outputId": "094e980e-2a07-4e65-92a7-cf6f1291fa01"
      },
      "outputs": [
        {
          "output_type": "execute_result",
          "data": {
            "text/html": [
              "\n",
              "  <div id=\"df-c7f5ae41-1abb-44a9-a51b-5d418955fea7\">\n",
              "    <div class=\"colab-df-container\">\n",
              "      <div>\n",
              "<style scoped>\n",
              "    .dataframe tbody tr th:only-of-type {\n",
              "        vertical-align: middle;\n",
              "    }\n",
              "\n",
              "    .dataframe tbody tr th {\n",
              "        vertical-align: top;\n",
              "    }\n",
              "\n",
              "    .dataframe thead th {\n",
              "        text-align: right;\n",
              "    }\n",
              "</style>\n",
              "<table border=\"1\" class=\"dataframe\">\n",
              "  <thead>\n",
              "    <tr style=\"text-align: right;\">\n",
              "      <th></th>\n",
              "      <th>CRIM</th>\n",
              "      <th>ZN</th>\n",
              "      <th>INDUS</th>\n",
              "      <th>CHAS</th>\n",
              "      <th>NOX</th>\n",
              "      <th>RM</th>\n",
              "      <th>AGE</th>\n",
              "      <th>DIS</th>\n",
              "      <th>RAD</th>\n",
              "      <th>TAX</th>\n",
              "      <th>PTRATIO</th>\n",
              "      <th>B</th>\n",
              "      <th>LSTAT</th>\n",
              "    </tr>\n",
              "  </thead>\n",
              "  <tbody>\n",
              "    <tr>\n",
              "      <th>count</th>\n",
              "      <td>408.000000</td>\n",
              "      <td>408.000000</td>\n",
              "      <td>408.000000</td>\n",
              "      <td>408.000000</td>\n",
              "      <td>408.000000</td>\n",
              "      <td>408.000000</td>\n",
              "      <td>408.000000</td>\n",
              "      <td>408.000000</td>\n",
              "      <td>408.000000</td>\n",
              "      <td>408.000000</td>\n",
              "      <td>408.000000</td>\n",
              "      <td>408.000000</td>\n",
              "      <td>408.000000</td>\n",
              "    </tr>\n",
              "    <tr>\n",
              "      <th>mean</th>\n",
              "      <td>3.607630</td>\n",
              "      <td>10.824755</td>\n",
              "      <td>11.319632</td>\n",
              "      <td>0.068627</td>\n",
              "      <td>0.556803</td>\n",
              "      <td>6.255522</td>\n",
              "      <td>68.961765</td>\n",
              "      <td>3.799301</td>\n",
              "      <td>9.546569</td>\n",
              "      <td>410.144608</td>\n",
              "      <td>18.519118</td>\n",
              "      <td>356.139118</td>\n",
              "      <td>13.033333</td>\n",
              "    </tr>\n",
              "    <tr>\n",
              "      <th>std</th>\n",
              "      <td>8.214020</td>\n",
              "      <td>22.425756</td>\n",
              "      <td>6.792844</td>\n",
              "      <td>0.253130</td>\n",
              "      <td>0.116858</td>\n",
              "      <td>0.695686</td>\n",
              "      <td>27.486112</td>\n",
              "      <td>2.112819</td>\n",
              "      <td>8.737661</td>\n",
              "      <td>168.569880</td>\n",
              "      <td>2.237304</td>\n",
              "      <td>90.544368</td>\n",
              "      <td>7.866768</td>\n",
              "    </tr>\n",
              "    <tr>\n",
              "      <th>min</th>\n",
              "      <td>0.006320</td>\n",
              "      <td>0.000000</td>\n",
              "      <td>0.460000</td>\n",
              "      <td>0.000000</td>\n",
              "      <td>0.385000</td>\n",
              "      <td>3.561000</td>\n",
              "      <td>6.000000</td>\n",
              "      <td>1.129600</td>\n",
              "      <td>1.000000</td>\n",
              "      <td>187.000000</td>\n",
              "      <td>12.600000</td>\n",
              "      <td>2.520000</td>\n",
              "      <td>1.730000</td>\n",
              "    </tr>\n",
              "    <tr>\n",
              "      <th>25%</th>\n",
              "      <td>0.085947</td>\n",
              "      <td>0.000000</td>\n",
              "      <td>5.190000</td>\n",
              "      <td>0.000000</td>\n",
              "      <td>0.449000</td>\n",
              "      <td>5.886500</td>\n",
              "      <td>45.750000</td>\n",
              "      <td>2.095550</td>\n",
              "      <td>4.000000</td>\n",
              "      <td>281.000000</td>\n",
              "      <td>17.400000</td>\n",
              "      <td>374.237500</td>\n",
              "      <td>7.320000</td>\n",
              "    </tr>\n",
              "    <tr>\n",
              "      <th>50%</th>\n",
              "      <td>0.266005</td>\n",
              "      <td>0.000000</td>\n",
              "      <td>9.900000</td>\n",
              "      <td>0.000000</td>\n",
              "      <td>0.538000</td>\n",
              "      <td>6.193000</td>\n",
              "      <td>77.500000</td>\n",
              "      <td>3.175750</td>\n",
              "      <td>5.000000</td>\n",
              "      <td>330.000000</td>\n",
              "      <td>19.100000</td>\n",
              "      <td>391.305000</td>\n",
              "      <td>11.575000</td>\n",
              "    </tr>\n",
              "    <tr>\n",
              "      <th>75%</th>\n",
              "      <td>3.674807</td>\n",
              "      <td>12.500000</td>\n",
              "      <td>18.100000</td>\n",
              "      <td>0.000000</td>\n",
              "      <td>0.631000</td>\n",
              "      <td>6.565500</td>\n",
              "      <td>94.300000</td>\n",
              "      <td>5.212575</td>\n",
              "      <td>24.000000</td>\n",
              "      <td>666.000000</td>\n",
              "      <td>20.200000</td>\n",
              "      <td>396.242500</td>\n",
              "      <td>16.945000</td>\n",
              "    </tr>\n",
              "    <tr>\n",
              "      <th>max</th>\n",
              "      <td>73.534100</td>\n",
              "      <td>100.000000</td>\n",
              "      <td>27.740000</td>\n",
              "      <td>1.000000</td>\n",
              "      <td>0.871000</td>\n",
              "      <td>8.780000</td>\n",
              "      <td>100.000000</td>\n",
              "      <td>12.126500</td>\n",
              "      <td>24.000000</td>\n",
              "      <td>711.000000</td>\n",
              "      <td>23.000000</td>\n",
              "      <td>396.900000</td>\n",
              "      <td>76.000000</td>\n",
              "    </tr>\n",
              "  </tbody>\n",
              "</table>\n",
              "</div>\n",
              "      <button class=\"colab-df-convert\" onclick=\"convertToInteractive('df-c7f5ae41-1abb-44a9-a51b-5d418955fea7')\"\n",
              "              title=\"Convert this dataframe to an interactive table.\"\n",
              "              style=\"display:none;\">\n",
              "        \n",
              "  <svg xmlns=\"http://www.w3.org/2000/svg\" height=\"24px\"viewBox=\"0 0 24 24\"\n",
              "       width=\"24px\">\n",
              "    <path d=\"M0 0h24v24H0V0z\" fill=\"none\"/>\n",
              "    <path d=\"M18.56 5.44l.94 2.06.94-2.06 2.06-.94-2.06-.94-.94-2.06-.94 2.06-2.06.94zm-11 1L8.5 8.5l.94-2.06 2.06-.94-2.06-.94L8.5 2.5l-.94 2.06-2.06.94zm10 10l.94 2.06.94-2.06 2.06-.94-2.06-.94-.94-2.06-.94 2.06-2.06.94z\"/><path d=\"M17.41 7.96l-1.37-1.37c-.4-.4-.92-.59-1.43-.59-.52 0-1.04.2-1.43.59L10.3 9.45l-7.72 7.72c-.78.78-.78 2.05 0 2.83L4 21.41c.39.39.9.59 1.41.59.51 0 1.02-.2 1.41-.59l7.78-7.78 2.81-2.81c.8-.78.8-2.07 0-2.86zM5.41 20L4 18.59l7.72-7.72 1.47 1.35L5.41 20z\"/>\n",
              "  </svg>\n",
              "      </button>\n",
              "      \n",
              "  <style>\n",
              "    .colab-df-container {\n",
              "      display:flex;\n",
              "      flex-wrap:wrap;\n",
              "      gap: 12px;\n",
              "    }\n",
              "\n",
              "    .colab-df-convert {\n",
              "      background-color: #E8F0FE;\n",
              "      border: none;\n",
              "      border-radius: 50%;\n",
              "      cursor: pointer;\n",
              "      display: none;\n",
              "      fill: #1967D2;\n",
              "      height: 32px;\n",
              "      padding: 0 0 0 0;\n",
              "      width: 32px;\n",
              "    }\n",
              "\n",
              "    .colab-df-convert:hover {\n",
              "      background-color: #E2EBFA;\n",
              "      box-shadow: 0px 1px 2px rgba(60, 64, 67, 0.3), 0px 1px 3px 1px rgba(60, 64, 67, 0.15);\n",
              "      fill: #174EA6;\n",
              "    }\n",
              "\n",
              "    [theme=dark] .colab-df-convert {\n",
              "      background-color: #3B4455;\n",
              "      fill: #D2E3FC;\n",
              "    }\n",
              "\n",
              "    [theme=dark] .colab-df-convert:hover {\n",
              "      background-color: #434B5C;\n",
              "      box-shadow: 0px 1px 3px 1px rgba(0, 0, 0, 0.15);\n",
              "      filter: drop-shadow(0px 1px 2px rgba(0, 0, 0, 0.3));\n",
              "      fill: #FFFFFF;\n",
              "    }\n",
              "  </style>\n",
              "\n",
              "      <script>\n",
              "        const buttonEl =\n",
              "          document.querySelector('#df-c7f5ae41-1abb-44a9-a51b-5d418955fea7 button.colab-df-convert');\n",
              "        buttonEl.style.display =\n",
              "          google.colab.kernel.accessAllowed ? 'block' : 'none';\n",
              "\n",
              "        async function convertToInteractive(key) {\n",
              "          const element = document.querySelector('#df-c7f5ae41-1abb-44a9-a51b-5d418955fea7');\n",
              "          const dataTable =\n",
              "            await google.colab.kernel.invokeFunction('convertToInteractive',\n",
              "                                                     [key], {});\n",
              "          if (!dataTable) return;\n",
              "\n",
              "          const docLinkHtml = 'Like what you see? Visit the ' +\n",
              "            '<a target=\"_blank\" href=https://colab.research.google.com/notebooks/data_table.ipynb>data table notebook</a>'\n",
              "            + ' to learn more about interactive tables.';\n",
              "          element.innerHTML = '';\n",
              "          dataTable['output_type'] = 'display_data';\n",
              "          await google.colab.output.renderOutput(dataTable, element);\n",
              "          const docLink = document.createElement('div');\n",
              "          docLink.innerHTML = docLinkHtml;\n",
              "          element.appendChild(docLink);\n",
              "        }\n",
              "      </script>\n",
              "    </div>\n",
              "  </div>\n",
              "  "
            ],
            "text/plain": [
              "             CRIM          ZN       INDUS  ...     PTRATIO           B       LSTAT\n",
              "count  408.000000  408.000000  408.000000  ...  408.000000  408.000000  408.000000\n",
              "mean     3.607630   10.824755   11.319632  ...   18.519118  356.139118   13.033333\n",
              "std      8.214020   22.425756    6.792844  ...    2.237304   90.544368    7.866768\n",
              "min      0.006320    0.000000    0.460000  ...   12.600000    2.520000    1.730000\n",
              "25%      0.085947    0.000000    5.190000  ...   17.400000  374.237500    7.320000\n",
              "50%      0.266005    0.000000    9.900000  ...   19.100000  391.305000   11.575000\n",
              "75%      3.674807   12.500000   18.100000  ...   20.200000  396.242500   16.945000\n",
              "max     73.534100  100.000000   27.740000  ...   23.000000  396.900000   76.000000\n",
              "\n",
              "[8 rows x 13 columns]"
            ]
          },
          "metadata": {},
          "execution_count": 44
        }
      ],
      "source": [
        "housing_tr.describe()"
      ]
    },
    {
      "cell_type": "code",
      "execution_count": 45,
      "metadata": {
        "id": "f0QoEVpusBg0"
      },
      "outputs": [],
      "source": [
        "# Scikit-Learn Design"
      ]
    },
    {
      "cell_type": "code",
      "execution_count": 46,
      "metadata": {
        "id": "ulc-1SxauO7R"
      },
      "outputs": [],
      "source": [
        "#  Primarily, 3 types of objects:\n",
        "# 1. Estimators:-\n",
        "#     It estimates some parameter based on a dataset. Eg, imputer. It has a fit method and transform method.\n",
        "#     Fit method fits the datasets and calculates internal parameters.\n",
        "\n",
        "# 2. Transformers:-\n",
        "#     It takes input and returns output based on the learning from fit(). It also has a convinience function called fit_transform()\n",
        "#     which fits and then transforms.\n",
        "\n",
        "# 3. Predictors:-\n",
        "#     LinearRegression model is an example of predictor. fit() and predict() are 2 common functions. It also gives score function\n",
        "#     which will evaluate the predictions."
      ]
    },
    {
      "cell_type": "code",
      "execution_count": 47,
      "metadata": {
        "id": "0QglzlQ_DVQj"
      },
      "outputs": [],
      "source": [
        "# Feature Scaling"
      ]
    },
    {
      "cell_type": "code",
      "execution_count": 48,
      "metadata": {
        "id": "cprfV9GLDY5Y"
      },
      "outputs": [],
      "source": [
        "# Primarialy, there are 2 types feature scaling methods:\n",
        "# 1. Min-max scaling (Normalization):- \n",
        "#       (value-min)/(max-min)\n",
        "#        for this sklearn provides class called MinMaxScaler\n",
        "\n",
        "# 2. Standardization:-\n",
        "#       (value-mean)/std      .....(where std is Standard DEviation)\n",
        "#         For this sklearn provides class called StandardScaler"
      ]
    },
    {
      "cell_type": "code",
      "execution_count": 49,
      "metadata": {
        "id": "C6iuCtLUCdGM"
      },
      "outputs": [],
      "source": [
        "# Creating Pipeline"
      ]
    },
    {
      "cell_type": "code",
      "execution_count": 50,
      "metadata": {
        "id": "Dcxf3xFdCx8z"
      },
      "outputs": [],
      "source": [
        "from sklearn.pipeline import Pipeline\n",
        "from sklearn.preprocessing import StandardScaler\n",
        "\n",
        "my_pipeline = Pipeline([\n",
        "                        ('imputer', SimpleImputer(strategy='median')),\n",
        "                        # ....can add as many as you want in your pipeline\n",
        "                        ('std_scaler', StandardScaler())\n",
        "])"
      ]
    },
    {
      "cell_type": "code",
      "execution_count": 51,
      "metadata": {
        "id": "kOc-FHaiGvfp"
      },
      "outputs": [],
      "source": [
        "housing_num_tr = my_pipeline.fit_transform(housing)"
      ]
    },
    {
      "cell_type": "code",
      "execution_count": 52,
      "metadata": {
        "id": "tPMYu9RsHEX1",
        "colab": {
          "base_uri": "https://localhost:8080/"
        },
        "outputId": "1091f8ac-2c6f-4df1-eb56-e3e39ff68dd3"
      },
      "outputs": [
        {
          "output_type": "execute_result",
          "data": {
            "text/plain": [
              "(408, 13)"
            ]
          },
          "metadata": {},
          "execution_count": 52
        }
      ],
      "source": [
        "housing_num_tr.shape"
      ]
    },
    {
      "cell_type": "code",
      "execution_count": 53,
      "metadata": {
        "id": "8jERsl42HHaf"
      },
      "outputs": [],
      "source": [
        "# Selecting a desired model for Dragon Real Estates"
      ]
    },
    {
      "cell_type": "code",
      "execution_count": 54,
      "metadata": {
        "id": "Hgnn4bDIIn_B",
        "colab": {
          "base_uri": "https://localhost:8080/"
        },
        "outputId": "961df2c9-7286-4ea3-a526-ebe0b7f36a47"
      },
      "outputs": [
        {
          "output_type": "execute_result",
          "data": {
            "text/plain": [
              "RandomForestRegressor()"
            ]
          },
          "metadata": {},
          "execution_count": 54
        }
      ],
      "source": [
        "from sklearn.linear_model import LinearRegression\n",
        "from sklearn.tree import DecisionTreeRegressor\n",
        "from sklearn.ensemble import RandomForestRegressor\n",
        "# model = LinearRegression()\n",
        "# model = DecisionTreeRegressor()\n",
        "model = RandomForestRegressor()\n",
        "model.fit(housing_num_tr,housing_labels)"
      ]
    },
    {
      "cell_type": "code",
      "source": [
        ""
      ],
      "metadata": {
        "id": "IpzFWcdBx3-I"
      },
      "execution_count": 54,
      "outputs": []
    },
    {
      "cell_type": "code",
      "execution_count": 55,
      "metadata": {
        "id": "inbONKhTKFwl"
      },
      "outputs": [],
      "source": [
        "some_data = housing.iloc[:5]"
      ]
    },
    {
      "cell_type": "code",
      "execution_count": 56,
      "metadata": {
        "id": "qWVVyk5uLWJM"
      },
      "outputs": [],
      "source": [
        "some_labels = housing_labels.iloc[:5]"
      ]
    },
    {
      "cell_type": "code",
      "execution_count": 57,
      "metadata": {
        "id": "sXuvtag_LfRA"
      },
      "outputs": [],
      "source": [
        "prepared_data = my_pipeline.transform(some_data)"
      ]
    },
    {
      "cell_type": "code",
      "execution_count": 58,
      "metadata": {
        "id": "NLfQpGdILpJy",
        "colab": {
          "base_uri": "https://localhost:8080/"
        },
        "outputId": "c99c7db1-6785-4e72-bd45-cd7d4afa69f7"
      },
      "outputs": [
        {
          "output_type": "execute_result",
          "data": {
            "text/plain": [
              "array([17.791, 22.122, 23.365, 19.556, 19.749])"
            ]
          },
          "metadata": {},
          "execution_count": 58
        }
      ],
      "source": [
        "model.predict(prepared_data)"
      ]
    },
    {
      "cell_type": "code",
      "execution_count": 59,
      "metadata": {
        "id": "kadqdFBeLtPU",
        "colab": {
          "base_uri": "https://localhost:8080/"
        },
        "outputId": "9e4b1b4e-270c-4335-d9a0-f0bbde53a33a"
      },
      "outputs": [
        {
          "output_type": "execute_result",
          "data": {
            "text/plain": [
              "[17.6, 22.0, 23.3, 19.3, 19.3]"
            ]
          },
          "metadata": {},
          "execution_count": 59
        }
      ],
      "source": [
        "list(some_labels)"
      ]
    },
    {
      "cell_type": "code",
      "execution_count": 60,
      "metadata": {
        "id": "9JBdhtUQMOBB"
      },
      "outputs": [],
      "source": [
        "# Evaluating the model"
      ]
    },
    {
      "cell_type": "code",
      "execution_count": 61,
      "metadata": {
        "id": "FXB332jQL0jq"
      },
      "outputs": [],
      "source": [
        "from sklearn.metrics import mean_squared_error\n",
        "housing_predictions = model.predict(housing_num_tr)\n",
        "mse = mean_squared_error(housing_labels, housing_predictions)\n",
        "rmse = np.sqrt(mse)"
      ]
    },
    {
      "cell_type": "code",
      "execution_count": 62,
      "metadata": {
        "id": "YB1NuQPPMznM",
        "colab": {
          "base_uri": "https://localhost:8080/"
        },
        "outputId": "91ce042a-0043-4741-f991-cb7fbb0e61bc"
      },
      "outputs": [
        {
          "output_type": "execute_result",
          "data": {
            "text/plain": [
              "1.612199741006666"
            ]
          },
          "metadata": {},
          "execution_count": 62
        }
      ],
      "source": [
        "rmse"
      ]
    },
    {
      "cell_type": "code",
      "execution_count": 63,
      "metadata": {
        "id": "GQxZWw9FM1_r"
      },
      "outputs": [],
      "source": [
        "# Using better evaluation technique- Cross Validation"
      ]
    },
    {
      "cell_type": "code",
      "execution_count": 64,
      "metadata": {
        "id": "lZ2G20kiOmW-"
      },
      "outputs": [],
      "source": [
        "from sklearn.model_selection import  cross_val_score\n",
        "scores = cross_val_score(model, housing_num_tr, housing_labels, scoring=\"neg_mean_squared_error\", cv=10)\n",
        "rmse_scores = np.sqrt(-scores)"
      ]
    },
    {
      "cell_type": "code",
      "execution_count": 65,
      "metadata": {
        "id": "2Wt8zMOpQKN6",
        "colab": {
          "base_uri": "https://localhost:8080/"
        },
        "outputId": "0b3b08ca-282a-4b12-da97-913fd81206d2"
      },
      "outputs": [
        {
          "output_type": "execute_result",
          "data": {
            "text/plain": [
              "array([ 3.81314501,  2.57517159,  3.1009875 ,  2.98330823,  2.43185867,\n",
              "        3.96602345, 10.17050993,  4.6327228 ,  2.58429611,  4.18049314])"
            ]
          },
          "metadata": {},
          "execution_count": 65
        }
      ],
      "source": [
        "rmse_scores"
      ]
    },
    {
      "cell_type": "code",
      "execution_count": 66,
      "metadata": {
        "id": "VzC_tEU2QOfE"
      },
      "outputs": [],
      "source": [
        "def print_scores(scores):\n",
        "  print('Scores: ', scores)\n",
        "  print('Mean: ', scores.mean())\n",
        "  print('Standard Deviation: ', scores.std())"
      ]
    },
    {
      "cell_type": "code",
      "source": [
        "print_scores(rmse_scores)"
      ],
      "metadata": {
        "id": "cXl6YxOOSIIq",
        "colab": {
          "base_uri": "https://localhost:8080/"
        },
        "outputId": "137c53c1-6149-4ece-bd31-651b0a6767b4"
      },
      "execution_count": 67,
      "outputs": [
        {
          "output_type": "stream",
          "name": "stdout",
          "text": [
            "Scores:  [ 3.81314501  2.57517159  3.1009875   2.98330823  2.43185867  3.96602345\n",
            " 10.17050993  4.6327228   2.58429611  4.18049314]\n",
            "Mean:  4.043851644484833\n",
            "Standard Deviation:  2.164722950226833\n"
          ]
        }
      ]
    },
    {
      "cell_type": "code",
      "source": [
        "# Saving the model"
      ],
      "metadata": {
        "id": "D1IIYRxnTfY_"
      },
      "execution_count": 68,
      "outputs": []
    },
    {
      "cell_type": "code",
      "source": [
        "from joblib import dump,load\n",
        "dump(model, 'Dragon.joblib')"
      ],
      "metadata": {
        "id": "STpAvoLOO2--",
        "colab": {
          "base_uri": "https://localhost:8080/"
        },
        "outputId": "329d3d2e-fa82-49cf-bcce-c5de7df2f905"
      },
      "execution_count": 69,
      "outputs": [
        {
          "output_type": "execute_result",
          "data": {
            "text/plain": [
              "['Dragon.joblib']"
            ]
          },
          "metadata": {},
          "execution_count": 69
        }
      ]
    },
    {
      "cell_type": "code",
      "source": [
        "# Testing the model on test data"
      ],
      "metadata": {
        "id": "pOvco1R6Tja4"
      },
      "execution_count": 70,
      "outputs": []
    },
    {
      "cell_type": "code",
      "source": [
        "X_test = split_test_set.drop(\"MEDV\", axis=1)\n",
        "Y_test = split_test_set[\"MEDV\"].copy()\n",
        "X_test_prepared = my_pipeline.transform(X_test)\n",
        "final_predictions = model.predict(X_test_prepared)\n",
        "final_mse = mean_squared_error(Y_test,final_predictions)\n",
        "final_rmse = np.sqrt(final_mse)\n",
        "print(final_predictions, list(Y_test))       #here we can compare the data values and the predicted values"
      ],
      "metadata": {
        "id": "PSfpxBZYTnZg",
        "colab": {
          "base_uri": "https://localhost:8080/"
        },
        "outputId": "a3d0b857-64a0-4888-e0dc-27168e156b66"
      },
      "execution_count": 71,
      "outputs": [
        {
          "output_type": "stream",
          "name": "stdout",
          "text": [
            "[18.633 20.364 15.152 22.89  20.725 29.334 13.09   8.712 15.311 20.832\n",
            " 30.748 14.766 31.555 33.936 43.874 20.123 23.258 43.075 29.165 34.118\n",
            " 42.582 14.534 32.104 20.586 16.804 14.366 26.004 22.048 21.042 19.669\n",
            " 15.858 14.686 21.117 41.206 16.286 42.359 32.396 16.797 25.986 17.85\n",
            " 21.21  20.126 23.011 21.16  14.812 13.516 35.795 27.655 25.98  27.898\n",
            " 19.317 24.219  8.848 27.655 13.179 10.03  21.571 21.733 30.053 20.249\n",
            " 27.045 14.635 28.862 13.608 17.425 32.203 16.136 20.226 18.678 19.673\n",
            " 21.138 12.441 32.802 26.001 17.047 13.624 11.704 32.159 14.514 36.065\n",
            " 41.719 20.713 30.363 17.955 20.943 25.859 18.809 23.88  42.053 23.794\n",
            " 23.013 29.017 48.208 14.404 15.903 20.368 26.041 15.062 23.541 21.67\n",
            " 29.611 34.529 11.293] [16.8, 19.7, 13.8, 23.6, 21.2, 30.5, 17.9, 7.2, 19.1, 16.1, 26.6, 13.6, 33.1, 34.9, 50.0, 21.1, 24.6, 44.8, 28.2, 35.4, 39.8, 14.1, 34.9, 19.9, 13.1, 12.7, 26.2, 23.0, 26.4, 20.4, 13.3, 11.7, 23.1, 46.7, 16.7, 50.0, 29.6, 10.4, 28.0, 16.6, 24.7, 20.3, 24.1, 22.2, 14.9, 14.9, 37.3, 29.0, 24.1, 26.6, 22.5, 25.3, 5.6, 26.6, 12.0, 10.5, 21.2, 20.4, 32.2, 19.8, 25.1, 13.4, 31.1, 17.2, 18.0, 29.0, 14.0, 21.7, 19.8, 19.4, 19.1, 13.8, 35.4, 27.0, 15.6, 15.4, 11.3, 37.2, 13.3, 34.9, 50.0, 22.6, 23.6, 18.4, 22.7, 24.4, 20.5, 22.9, 48.3, 29.6, 21.6, 29.1, 50.0, 13.8, 14.3, 20.0, 25.0, 23.2, 22.8, 23.8, 31.5, 33.4, 13.9]\n"
          ]
        }
      ]
    },
    {
      "cell_type": "code",
      "source": [
        "final_rmse"
      ],
      "metadata": {
        "id": "oaqKN-GJVZ7V",
        "colab": {
          "base_uri": "https://localhost:8080/"
        },
        "outputId": "6f71c3a6-9bd8-4f41-e452-ea83be9b95ec"
      },
      "execution_count": 72,
      "outputs": [
        {
          "output_type": "execute_result",
          "data": {
            "text/plain": [
              "2.7894196146165897"
            ]
          },
          "metadata": {},
          "execution_count": 72
        }
      ]
    },
    {
      "cell_type": "code",
      "source": [
        "# model usage"
      ],
      "metadata": {
        "id": "LLxlBeE01X3S"
      },
      "execution_count": 73,
      "outputs": []
    },
    {
      "cell_type": "code",
      "source": [
        "prepared_data"
      ],
      "metadata": {
        "id": "Hc7arEHp8ftn",
        "colab": {
          "base_uri": "https://localhost:8080/"
        },
        "outputId": "cd0d1306-e041-41da-b812-b9b3644674d4"
      },
      "execution_count": 74,
      "outputs": [
        {
          "output_type": "execute_result",
          "data": {
            "text/plain": [
              "array([[-0.4146236 ,  0.4989337 , -0.80471964, -0.27144836, -1.07786549,\n",
              "        -0.95349822,  0.27459287,  1.96926474, -0.29180523, -0.4760222 ,\n",
              "         0.2599537 ,  0.18080591, -0.06787897],\n",
              "       [-0.4349504 , -0.48328559, -1.16583611, -0.27144836, -0.58092896,\n",
              "         0.21512786,  0.17988351, -0.33513029, -0.86474331, -0.83239467,\n",
              "        -0.3218161 ,  0.41368463, -0.61515318],\n",
              "       [-0.42091691,  0.63287269, -0.91231761, -0.27144836, -0.88937232,\n",
              "        -0.15906276, -1.448389  ,  1.90287382, -0.17721761, -0.74924109,\n",
              "         0.52846284,  0.38194855, -0.78569909],\n",
              "       [-0.41884839, -0.48328559, -0.64995545, -0.27144836, -0.93221168,\n",
              "        -0.82540989, -1.28082628,  0.61656761, -0.75015569, -1.05215769,\n",
              "        -0.27706458,  0.45072849, -0.35933431],\n",
              "       [-0.42209805, -0.48328559, -0.19303257, -0.27144836, -0.08399244,\n",
              "        -0.75488935, -0.13702859, -0.49288571, -0.40639284,  0.129811  ,\n",
              "        -0.3218161 ,  0.391016  ,  0.07339414]])"
            ]
          },
          "metadata": {},
          "execution_count": 74
        }
      ]
    },
    {
      "cell_type": "code",
      "source": [
        "features = np.array([[-0.39045075, -0.49703249, -0.11264302, -0.27144836, -0.01847545,\n",
        "        -0.09455252,  0.5829419 , -0.7583632 , -0.41238419,  0.15070654,\n",
        "        -0.30803868,  0.34998552, -0.26596749]])      #here are the features \n",
        "model.predict(features)                               #here we can see the model predicted the price(value) of the house from the given features"
      ],
      "metadata": {
        "id": "F5Xldnbm7fcR",
        "colab": {
          "base_uri": "https://localhost:8080/"
        },
        "outputId": "acc7ca94-45af-4980-db56-812179ff537d"
      },
      "execution_count": 75,
      "outputs": [
        {
          "output_type": "execute_result",
          "data": {
            "text/plain": [
              "array([20.707])"
            ]
          },
          "metadata": {},
          "execution_count": 75
        }
      ]
    },
    {
      "cell_type": "code",
      "source": [
        ""
      ],
      "metadata": {
        "id": "dLt3RNsh8ih1"
      },
      "execution_count": 75,
      "outputs": []
    }
  ],
  "metadata": {
    "colab": {
      "collapsed_sections": [],
      "name": "ML_Model",
      "provenance": []
    },
    "kernelspec": {
      "display_name": "Python 3",
      "name": "python3"
    },
    "language_info": {
      "name": "python"
    }
  },
  "nbformat": 4,
  "nbformat_minor": 0
}